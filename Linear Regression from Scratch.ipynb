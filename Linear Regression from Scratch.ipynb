{
 "cells": [
  {
   "cell_type": "code",
   "execution_count": 1,
   "metadata": {},
   "outputs": [],
   "source": [
    "import pandas as pd\n",
    "import numpy as np\n",
    "import matplotlib.pyplot as plt\n",
    "from sklearn.metrics import r2_score"
   ]
  },
  {
   "cell_type": "code",
   "execution_count": 2,
   "metadata": {},
   "outputs": [],
   "source": [
    "df = pd.read_csv(\"/Users/atharva/Documents/Coding Practice/Python/dataset/Regression dataset/Housing_Price_Prediction.csv\")\n",
    "df['Index'] = range(0, len(df))\n",
    "df = df[['Index', 'bedrooms', 'bathrooms', 'sqft_living', 'zipcode','price']]\n",
    "#df = df[:10000]          # Here we choose first 100 values for our convenience\n",
    "df.rename(columns = {'bedrooms':'No of Bedrooms', 'bathrooms':'No of Bathrooms', 'sqft_living': 'Area of House', 'zipcode':'Zipcode', 'price':'Price'}, inplace = True) "
   ]
  },
  {
   "cell_type": "code",
   "execution_count": 3,
   "metadata": {},
   "outputs": [
    {
     "data": {
      "text/html": [
       "<div>\n",
       "<style scoped>\n",
       "    .dataframe tbody tr th:only-of-type {\n",
       "        vertical-align: middle;\n",
       "    }\n",
       "\n",
       "    .dataframe tbody tr th {\n",
       "        vertical-align: top;\n",
       "    }\n",
       "\n",
       "    .dataframe thead th {\n",
       "        text-align: right;\n",
       "    }\n",
       "</style>\n",
       "<table border=\"1\" class=\"dataframe\">\n",
       "  <thead>\n",
       "    <tr style=\"text-align: right;\">\n",
       "      <th></th>\n",
       "      <th>Index</th>\n",
       "      <th>No of Bedrooms</th>\n",
       "      <th>No of Bathrooms</th>\n",
       "      <th>Area of House</th>\n",
       "      <th>Zipcode</th>\n",
       "      <th>Price</th>\n",
       "    </tr>\n",
       "  </thead>\n",
       "  <tbody>\n",
       "    <tr>\n",
       "      <th>0</th>\n",
       "      <td>0</td>\n",
       "      <td>3</td>\n",
       "      <td>1.00</td>\n",
       "      <td>1180</td>\n",
       "      <td>98178</td>\n",
       "      <td>221900.0</td>\n",
       "    </tr>\n",
       "    <tr>\n",
       "      <th>1</th>\n",
       "      <td>1</td>\n",
       "      <td>3</td>\n",
       "      <td>2.25</td>\n",
       "      <td>2570</td>\n",
       "      <td>98125</td>\n",
       "      <td>538000.0</td>\n",
       "    </tr>\n",
       "    <tr>\n",
       "      <th>2</th>\n",
       "      <td>2</td>\n",
       "      <td>2</td>\n",
       "      <td>1.00</td>\n",
       "      <td>770</td>\n",
       "      <td>98028</td>\n",
       "      <td>180000.0</td>\n",
       "    </tr>\n",
       "    <tr>\n",
       "      <th>3</th>\n",
       "      <td>3</td>\n",
       "      <td>4</td>\n",
       "      <td>3.00</td>\n",
       "      <td>1960</td>\n",
       "      <td>98136</td>\n",
       "      <td>604000.0</td>\n",
       "    </tr>\n",
       "    <tr>\n",
       "      <th>4</th>\n",
       "      <td>4</td>\n",
       "      <td>3</td>\n",
       "      <td>2.00</td>\n",
       "      <td>1680</td>\n",
       "      <td>98074</td>\n",
       "      <td>510000.0</td>\n",
       "    </tr>\n",
       "    <tr>\n",
       "      <th>...</th>\n",
       "      <td>...</td>\n",
       "      <td>...</td>\n",
       "      <td>...</td>\n",
       "      <td>...</td>\n",
       "      <td>...</td>\n",
       "      <td>...</td>\n",
       "    </tr>\n",
       "    <tr>\n",
       "      <th>21608</th>\n",
       "      <td>21608</td>\n",
       "      <td>3</td>\n",
       "      <td>2.50</td>\n",
       "      <td>1530</td>\n",
       "      <td>98103</td>\n",
       "      <td>360000.0</td>\n",
       "    </tr>\n",
       "    <tr>\n",
       "      <th>21609</th>\n",
       "      <td>21609</td>\n",
       "      <td>4</td>\n",
       "      <td>2.50</td>\n",
       "      <td>2310</td>\n",
       "      <td>98146</td>\n",
       "      <td>400000.0</td>\n",
       "    </tr>\n",
       "    <tr>\n",
       "      <th>21610</th>\n",
       "      <td>21610</td>\n",
       "      <td>2</td>\n",
       "      <td>0.75</td>\n",
       "      <td>1020</td>\n",
       "      <td>98144</td>\n",
       "      <td>402101.0</td>\n",
       "    </tr>\n",
       "    <tr>\n",
       "      <th>21611</th>\n",
       "      <td>21611</td>\n",
       "      <td>3</td>\n",
       "      <td>2.50</td>\n",
       "      <td>1600</td>\n",
       "      <td>98027</td>\n",
       "      <td>400000.0</td>\n",
       "    </tr>\n",
       "    <tr>\n",
       "      <th>21612</th>\n",
       "      <td>21612</td>\n",
       "      <td>2</td>\n",
       "      <td>0.75</td>\n",
       "      <td>1020</td>\n",
       "      <td>98144</td>\n",
       "      <td>325000.0</td>\n",
       "    </tr>\n",
       "  </tbody>\n",
       "</table>\n",
       "<p>21613 rows × 6 columns</p>\n",
       "</div>"
      ],
      "text/plain": [
       "       Index  No of Bedrooms  No of Bathrooms  Area of House  Zipcode  \\\n",
       "0          0               3             1.00           1180    98178   \n",
       "1          1               3             2.25           2570    98125   \n",
       "2          2               2             1.00            770    98028   \n",
       "3          3               4             3.00           1960    98136   \n",
       "4          4               3             2.00           1680    98074   \n",
       "...      ...             ...              ...            ...      ...   \n",
       "21608  21608               3             2.50           1530    98103   \n",
       "21609  21609               4             2.50           2310    98146   \n",
       "21610  21610               2             0.75           1020    98144   \n",
       "21611  21611               3             2.50           1600    98027   \n",
       "21612  21612               2             0.75           1020    98144   \n",
       "\n",
       "          Price  \n",
       "0      221900.0  \n",
       "1      538000.0  \n",
       "2      180000.0  \n",
       "3      604000.0  \n",
       "4      510000.0  \n",
       "...         ...  \n",
       "21608  360000.0  \n",
       "21609  400000.0  \n",
       "21610  402101.0  \n",
       "21611  400000.0  \n",
       "21612  325000.0  \n",
       "\n",
       "[21613 rows x 6 columns]"
      ]
     },
     "execution_count": 3,
     "metadata": {},
     "output_type": "execute_result"
    }
   ],
   "source": [
    "df"
   ]
  },
  {
   "cell_type": "code",
   "execution_count": 4,
   "metadata": {},
   "outputs": [],
   "source": [
    "X = df['Area of House']\n",
    "Y = df['Price']\n",
    "n = len(X)"
   ]
  },
  {
   "cell_type": "code",
   "execution_count": 5,
   "metadata": {},
   "outputs": [],
   "source": [
    "# First we will implement simple linear regression where we will determine relation between the Area of house and the house Price"
   ]
  },
  {
   "cell_type": "code",
   "execution_count": 6,
   "metadata": {},
   "outputs": [
    {
     "name": "stdout",
     "output_type": "stream",
     "text": [
      "The mean value for the price of the house is: 540088.1417665294\n"
     ]
    },
    {
     "data": {
      "image/png": "[encoded data removed]",
      "text/plain": [
       "<Figure size 432x288 with 1 Axes>"
      ]
     },
     "metadata": {
      "needs_background": "light"
     },
     "output_type": "display_data"
    },
    {
     "name": "stdout",
     "output_type": "stream",
     "text": [
      "The SSE is:2912.92\n"
     ]
    }
   ],
   "source": [
    "# Linear regression is comparison between the SSE where we just have the dependent variable and the situation \n",
    "# where we have both independent and dependent variable\n",
    "\n",
    "# Let us first calculate the SSE where we just consider the dependent variable: Price of the house\n",
    "\n",
    "# In that case lets plot the scatter plot again with index on X-axis and Price on Y-axis\n",
    "plt.scatter(df['Index'], df['Price'], color = '#ff0000')\n",
    "\n",
    "# Now in case we have to predict the next value for the Price of the house, the only way is to determine the mean\n",
    "price_mean = np.mean(df['Price'])\n",
    "print('The mean value for the price of the house is:', price_mean)\n",
    "\n",
    "# Lets plot the mean line on the graph\n",
    "plt.axhline(y = price_mean)\n",
    "plt.show()\n",
    "\n",
    "# Let us determine the SSE for the current line: Mean line\n",
    "\n",
    "Price = df['Price']\n",
    "sse = 0 \n",
    "for i in range(n):\n",
    "    sse += (Price[i] - price_mean)**2\n",
    "print('The SSE is:' + '{:.2f}'.format(sse/1000000000000))"
   ]
  },
  {
   "cell_type": "code",
   "execution_count": 7,
   "metadata": {},
   "outputs": [],
   "source": [
    "# Now we introduce the independent variable with an intension to reduce the SSE"
   ]
  },
  {
   "cell_type": "code",
   "execution_count": 8,
   "metadata": {},
   "outputs": [
    {
     "data": {
      "image/png": "[encoded data removed]",
      "text/plain": [
       "<Figure size 432x288 with 1 Axes>"
      ]
     },
     "metadata": {
      "needs_background": "light"
     },
     "output_type": "display_data"
    }
   ],
   "source": [
    "# We will generate the scatter plot of all the data points we have for area of house and its price\n",
    "ax1 = df.plot.scatter(x = 'Area of House', y = 'Price', c ='DarkBlue')\n",
    "\n",
    "# Here 1e6 means the value on y-axis * 10^6"
   ]
  },
  {
   "cell_type": "code",
   "execution_count": 9,
   "metadata": {},
   "outputs": [
    {
     "name": "stdout",
     "output_type": "stream",
     "text": [
      "Mean area of the houses is: 2079.8997362698374\n",
      "Mean Price of the houses is: 540088.1417665294\n",
      "Number of records: 21613\n"
     ]
    }
   ],
   "source": [
    "# X-axis: Area of house\n",
    "# Y-axis: Price of the house\n",
    "\n",
    "# Calculate mean of independent and dependent variable\n",
    "\n",
    "x_mean = np.mean(X)\n",
    "print('Mean area of the houses is:',x_mean)\n",
    "\n",
    "y_mean = np.mean(Y)\n",
    "print('Mean Price of the houses is:',y_mean)\n",
    "\n",
    "n = len(X)\n",
    "print('Number of records:',n)"
   ]
  },
  {
   "cell_type": "code",
   "execution_count": 10,
   "metadata": {},
   "outputs": [],
   "source": [
    "# We know that the best fit line can be expressed as: y = b0 + b1x\n",
    "# b0: bias coefficient\n",
    "# b1: Scale Factor\n",
    "# x: Independent Variable(Area of House)\n",
    "# y: Dependent Variable (Price of the house)\n",
    "\n",
    "# We need to determine the values for b0 and b1\n",
    "\n",
    "# b1 = sum[(xi - x_mean)(yi - y_mean)] / sum[(xi - x_mean)**2]\n",
    "\n",
    "# b0 = y_mean - (b1 * x_mean)"
   ]
  },
  {
   "cell_type": "code",
   "execution_count": 11,
   "metadata": {},
   "outputs": [
    {
     "name": "stdout",
     "output_type": "stream",
     "text": [
      "The scaling factor is: 280.6235678974486\n"
     ]
    }
   ],
   "source": [
    "# Determine b1:\n",
    "\n",
    "num = 0\n",
    "denom = 0\n",
    "\n",
    "for i in range(n):\n",
    "    num += (X[i] - x_mean) * (Y[i] - y_mean)\n",
    "    denom += (X[i] - x_mean)**2\n",
    "b1 = num/denom\n",
    "                 \n",
    "print('The scaling factor is:', b1)"
   ]
  },
  {
   "cell_type": "code",
   "execution_count": 12,
   "metadata": {},
   "outputs": [
    {
     "name": "stdout",
     "output_type": "stream",
     "text": [
      "The bias coefficient is: -43580.743094474776\n"
     ]
    }
   ],
   "source": [
    "# Determine b0:\n",
    "\n",
    "b0 = y_mean - (b1 * x_mean)\n",
    "print('The bias coefficient is:', b0)"
   ]
  },
  {
   "cell_type": "code",
   "execution_count": 13,
   "metadata": {},
   "outputs": [
    {
     "data": {
      "image/png": "[encoded data removed]",
      "text/plain": [
       "<Figure size 432x288 with 1 Axes>"
      ]
     },
     "metadata": {
      "needs_background": "light"
     },
     "output_type": "display_data"
    }
   ],
   "source": [
    "# Plotting the line\n",
    "\n",
    "x_max = np.max(X) + 100\n",
    "x_min = np.min(X) - 100\n",
    "\n",
    "x = np.linspace(x_min, x_max, 1000)\n",
    "\n",
    "y = b0 + b1 * x\n",
    "\n",
    "plt.plot(x, y, color='#00ff00', label = 'Best Fit Line')\n",
    "\n",
    "plt.scatter(X, Y, color='#ff0000', label = 'Data Point')\n",
    "\n",
    "plt.xlabel('Area of House (sq. ft.)')\n",
    "\n",
    "plt.ylabel('Price of the House')\n",
    "\n",
    "plt.legend()\n",
    "\n",
    "plt.show()"
   ]
  },
  {
   "cell_type": "code",
   "execution_count": 14,
   "metadata": {},
   "outputs": [
    {
     "name": "stdout",
     "output_type": "stream",
     "text": [
      "The SSE is:1477.28\n"
     ]
    }
   ],
   "source": [
    "SSE = 0 \n",
    "for i in range(n):\n",
    "    y_pred = b0 + (b1 * X[i])\n",
    "    SSE += (Y[i] - y_pred)**2\n",
    "print('The SSE is:' + '{:.2f}'.format(SSE/1000000000000))"
   ]
  },
  {
   "cell_type": "code",
   "execution_count": 15,
   "metadata": {},
   "outputs": [
    {
     "name": "stdout",
     "output_type": "stream",
     "text": [
      "Difference between the SSE is:1435.64\n"
     ]
    }
   ],
   "source": [
    "print(\"Difference between the SSE is:\" + \"{:.2f}\".format((sse - SSE)/1000000000000))"
   ]
  },
  {
   "cell_type": "code",
   "execution_count": 16,
   "metadata": {},
   "outputs": [],
   "source": [
    "# The equation for the best fit line is:\n",
    "\n",
    "# y = 269.46205468469446 * x - 32304.6547210266"
   ]
  },
  {
   "cell_type": "code",
   "execution_count": 17,
   "metadata": {},
   "outputs": [
    {
     "name": "stdout",
     "output_type": "stream",
     "text": [
      "Price of the house with area 3600 sqft is:937758.74\n"
     ]
    }
   ],
   "source": [
    "# Now we can predict the price of the house for a new value of the area of the house considering the similar trend\n",
    "\n",
    "# For eg: The price for a house with area = 3600 sqft is\"\n",
    "\n",
    "price_house = 269.46205468469446 * 3600 - 32304.6547210266 \n",
    "print(\"Price of the house with area 3600 sqft is:\" + \"{:.2f}\".format(price_house))"
   ]
  },
  {
   "cell_type": "code",
   "execution_count": 18,
   "metadata": {},
   "outputs": [],
   "source": [
    "# We can determine the R2 score (Coefficient of Determination) which can measure the accuracy of the linear model:\n",
    "\n",
    "# R2 = SSE/SST: Sum of squared errors/ total sum of squares\n",
    "\n",
    "# R2 = sum(y_pred - y_mean)**2 / sum(yi - y_mean)**2\n",
    "\n",
    "# The value ranges between 0 and 1"
   ]
  },
  {
   "cell_type": "code",
   "execution_count": 19,
   "metadata": {},
   "outputs": [
    {
     "name": "stdout",
     "output_type": "stream",
     "text": [
      "The R2 score of the model is:  0.5071467820962087\n",
      "R2 score according Sklearn is:  0.4928532179037932\n"
     ]
    }
   ],
   "source": [
    "R_SSE = 0\n",
    "R_SST = 0\n",
    "R2_score = 0\n",
    "for i in range(n):\n",
    "    y_pred = b0 + (b1 * X[i])\n",
    "    R_SSE += (y_pred - y_mean)**2\n",
    "    R_SST += (Y[i] - y_mean)**2\n",
    "R2_score = 1 - (R_SSE / R_SST)\n",
    "print(\"The R2 score of the model is: \",format(R2_score))\n",
    "\n",
    "\n",
    "y_predicted = []\n",
    "for i in range(n):\n",
    "    y_pred = b0 + (b1 * X[i])\n",
    "    y_predicted.append(y_pred)\n",
    "print(\"R2 score according Sklearn is: \", r2_score(Y, y_predicted))"
   ]
  },
  {
   "cell_type": "code",
   "execution_count": 20,
   "metadata": {},
   "outputs": [],
   "source": [
    "# Thus we can say that approx 50% of the variation in the Price of the houses can be explained using the feature: \n",
    "# Area of the house"
   ]
  },
  {
   "cell_type": "code",
   "execution_count": 21,
   "metadata": {},
   "outputs": [],
   "source": [
    "# To further increase the R2 score we need to incorporate all the other features in the dataset"
   ]
  },
  {
   "cell_type": "code",
   "execution_count": 22,
   "metadata": {},
   "outputs": [],
   "source": [
    "# Now, we include multiple independent features to predict the price of the house"
   ]
  },
  {
   "cell_type": "code",
   "execution_count": null,
   "metadata": {},
   "outputs": [],
   "source": []
  }
 ],
 "metadata": {
  "kernelspec": {
   "display_name": "Python 3",
   "language": "python",
   "name": "python3"
  },
  "language_info": {
   "codemirror_mode": {
    "name": "ipython",
    "version": 3
   },
   "file_extension": ".py",
   "mimetype": "text/x-python",
   "name": "python",
   "nbconvert_exporter": "python",
   "pygments_lexer": "ipython3",
   "version": "3.7.6"
  }
 },
 "nbformat": 4,
 "nbformat_minor": 4
}
